{
 "cells": [
  {
   "attachments": {},
   "cell_type": "markdown",
   "metadata": {},
   "source": [
    "# Mitigação de erros\n",
    "\n",
    "Tutorial disponível em: https://learn.qiskit.org/course/quantum-hardware/measurement-error-mitigation "
   ]
  },
  {
   "cell_type": "code",
   "execution_count": 1,
   "metadata": {},
   "outputs": [],
   "source": [
    "from qiskit import QuantumCircuit, QuantumRegister, Aer, execute\n",
    "from qiskit.providers.aer.noise import NoiseModel\n",
    "from qiskit.providers.aer.noise.errors import pauli_error, depolarizing_error\n",
    "import numpy as np\n",
    "import scipy.linalg as la\n",
    "from qiskit.utils.mitigation import complete_meas_cal, CompleteMeasFitter\n",
    "from qiskit.visualization import plot_histogram \n",
    "\n",
    "shots = 10000"
   ]
  },
  {
   "attachments": {},
   "cell_type": "markdown",
   "metadata": {},
   "source": [
    "Para entender melhor sobre os ruídos, vamos primeiro modelar um sistema onde o ruído se dá na medição de um qubit com uma probabilidade p. Como passado como parâmetro, estaremos simulando um circuito com 1% de probabilidade de encontrar ruído."
   ]
  },
  {
   "cell_type": "code",
   "execution_count": 2,
   "metadata": {},
   "outputs": [],
   "source": [
    "def get_noise(p):\n",
    "    error_meas = pauli_error([('X',p), ('I', 1 - p)])\n",
    "\n",
    "    noise_model = NoiseModel()\n",
    "    noise_model.add_all_qubit_quantum_error(error_meas, \"measure\") # measurement error is applied to measurements\n",
    "        \n",
    "    return noise_model"
   ]
  },
  {
   "cell_type": "code",
   "execution_count": 3,
   "metadata": {},
   "outputs": [],
   "source": [
    "noise_model = get_noise(0.01)"
   ]
  },
  {
   "attachments": {},
   "cell_type": "markdown",
   "metadata": {},
   "source": [
    "Aqui fazemos finalmente a simulação. inicializando um circuito de 2 qubits nos estados |00>, |01>, |10> e |11> e acrescentando o erro, percebemos que na maioria das vezes o resultado está correto e ainda é possível interpretar corretamente os dados."
   ]
  },
  {
   "cell_type": "code",
   "execution_count": 5,
   "metadata": {},
   "outputs": [
    {
     "name": "stdout",
     "output_type": "stream",
     "text": [
      "00 se tornou: {'00': 9818, '01': 88, '10': 93, '11': 1}\n",
      "01 se tornou: {'01': 9816, '00': 92, '11': 91, '10': 1}\n",
      "10 se tornou: {'10': 9829, '11': 78, '00': 89, '01': 4}\n",
      "11 se tornou: {'11': 9781, '01': 108, '10': 110, '00': 1}\n"
     ]
    }
   ],
   "source": [
    "list_res = []\n",
    "for state in ['00','01','10','11']:\n",
    "    qc = QuantumCircuit(2,2)\n",
    "    if state[0]=='1':\n",
    "        qc.x(1)\n",
    "    if state[1]=='1':\n",
    "        qc.x(0)  \n",
    "    qc.measure(qc.qregs[0],qc.cregs[0])\n",
    "    #vamos salvar a execução em uma variavel para usar mais tarde\n",
    "    res = execute(qc, Aer.get_backend('qasm_simulator'),\n",
    "                  noise_model=noise_model,shots=shots).result().get_counts()\n",
    "    print(state +' se tornou:', res)\n",
    "    list_res.append(res)"
   ]
  },
  {
   "cell_type": "code",
   "execution_count": 6,
   "metadata": {},
   "outputs": [
    {
     "data": {
      "image/png": "[encoded data removed]",
      "text/plain": [
       "<Figure size 370.906x284.278 with 1 Axes>"
      ]
     },
     "execution_count": 6,
     "metadata": {},
     "output_type": "execute_result"
    }
   ],
   "source": [
    "qc.draw('mpl')"
   ]
  },
  {
   "attachments": {},
   "cell_type": "markdown",
   "metadata": {},
   "source": [
    "Mas em um circuito um pouco diferente, que utiliza uma superposição e por isso o resultado deveria ser ou |00> ou |11>, o erro começa a interferir na possibilidade de intterpretação dos resultados, como pode ser visto a seguir:"
   ]
  },
  {
   "cell_type": "code",
   "execution_count": 7,
   "metadata": {},
   "outputs": [
    {
     "name": "stdout",
     "output_type": "stream",
     "text": [
      "{'11': 4959, '00': 4837, '10': 99, '01': 105}\n"
     ]
    }
   ],
   "source": [
    "qc = QuantumCircuit(2,2)\n",
    "qc.h(0)\n",
    "qc.cx(0,1)  \n",
    "qc.measure(qc.qregs[0],qc.cregs[0])\n",
    "print(execute(qc, Aer.get_backend('qasm_simulator'),\n",
    "              noise_model=noise_model,shots=10000).result().get_counts())"
   ]
  },
  {
   "attachments": {},
   "cell_type": "markdown",
   "metadata": {},
   "source": [
    "## Mitigando erros com Algebra Linear\n",
    "\n",
    "Vamos primeiro construir uma matriz com os resultados normalizados que obtivemos para todos os valores na preparação de estados. Pode ser necessário adicionar manualmente um valor zero na lista se algum estado não tiver sido medido. Com essa matriz é possível descobrir como serão as medidas de erro, ao realizar o produto interno com o vetor com as probabilidades ideais (lembrando sempre de manter a ordenação \"|00>, |01>, |10>, |11>\" durante os calculos). No calculo abaixo estamos calculando o erro para a operação de Hadammard:"
   ]
  },
  {
   "cell_type": "code",
   "execution_count": 8,
   "metadata": {},
   "outputs": [
    {
     "name": "stdout",
     "output_type": "stream",
     "text": [
      "C_noisy =\n",
      " [[4909.5]\n",
      " [  91.5]\n",
      " [  83.5]\n",
      " [4891. ]]\n"
     ]
    }
   ],
   "source": [
    "#matriz com os resultados dos calculos\n",
    "M = [ [list_res[0]['00'],list_res[0]['01'],list_res[0]['10'],list_res[0]['11']],\n",
    "    [list_res[1]['00'],list_res[1]['01'],list_res[1]['10'],list_res[1]['11']],\n",
    "    [list_res[2]['00'],list_res[2]['01'],list_res[2]['10'],list_res[2]['11']],\n",
    "    [list_res[3]['00'],list_res[3]['01'],list_res[3]['10'],list_res[3]['11']] ]\n",
    "\n",
    "#normalizando pelo numero de shots\n",
    "for i in range (len(M)):\n",
    "    M[i] = np.array(M[i])/shots\n",
    "\n",
    "#a probabilidade ideal que gostariamos para uma operação de Hadammard\n",
    "Cideal = [ [5000],\n",
    "          [0],\n",
    "          [0],\n",
    "          [5000] ]\n",
    "\n",
    "Cnoisy = np.dot(M, Cideal)\n",
    "print('C_noisy =\\n', Cnoisy)"
   ]
  },
  {
   "attachments": {},
   "cell_type": "markdown",
   "metadata": {},
   "source": [
    "Este método acima é uma boa forma de estimar como serão os resultados, já que se compararmos ele apenas aproxima do que foi obtido experimentalmente. Agora para transformar dados ruidosos em dados ideiais, o que precisamos é do processo oporto, que podemos fazer utilizando a matriz inversa:"
   ]
  },
  {
   "cell_type": "code",
   "execution_count": 9,
   "metadata": {},
   "outputs": [
    {
     "name": "stdout",
     "output_type": "stream",
     "text": [
      "[[ 1.01871030e+00 -9.12939873e-03 -9.63854609e-03  5.76496866e-05]\n",
      " [-9.54784830e-03  1.01893476e+00  9.27642631e-05 -9.47968013e-03]\n",
      " [-9.22120390e-03 -2.42744826e-04  1.01757555e+00 -8.11160229e-03]\n",
      " [ 1.04977993e-04 -1.12472266e-02 -1.14439925e-02  1.02258624e+00]]\n",
      "C_mitigated =\n",
      " [[5000.]\n",
      " [   0.]\n",
      " [   0.]\n",
      " [5000.]]\n"
     ]
    }
   ],
   "source": [
    "# invertendo a matriz\n",
    "Minv = la.inv(M)\n",
    "print(Minv)\n",
    "\n",
    "#operando com o resultado da Hadammard com ruido\n",
    "Cmitigated = np.dot(Minv, Cnoisy)\n",
    "\n",
    "#transformando em inteiro (contagens)\n",
    "for i in range(len(Cmitigated)):\n",
    "    Cmitigated[i] = [int(j) for j in Cmitigated[i]]\n",
    "\n",
    "print('C_mitigated =\\n', Cmitigated)"
   ]
  },
  {
   "attachments": {},
   "cell_type": "markdown",
   "metadata": {},
   "source": [
    "## Mitigando erros no Qiskit\n",
    "\n",
    "Vamos primeiro criar um circuito para cada elemento da nossa base:"
   ]
  },
  {
   "cell_type": "code",
   "execution_count": 10,
   "metadata": {},
   "outputs": [
    {
     "name": "stdout",
     "output_type": "stream",
     "text": [
      "Circuit mcalcal_00\n",
      "        ░ ┌─┐   \n",
      "q17_0: ─░─┤M├───\n",
      "        ░ └╥┘┌─┐\n",
      "q17_1: ─░──╫─┤M├\n",
      "        ░  ║ └╥┘\n",
      " c0: 2/════╩══╩═\n",
      "           0  1 \n",
      "\n",
      "Circuit mcalcal_01\n",
      "       ┌───┐ ░ ┌─┐   \n",
      "q17_0: ┤ X ├─░─┤M├───\n",
      "       └───┘ ░ └╥┘┌─┐\n",
      "q17_1: ──────░──╫─┤M├\n",
      "             ░  ║ └╥┘\n",
      " c0: 2/═════════╩══╩═\n",
      "                0  1 \n",
      "\n",
      "Circuit mcalcal_10\n",
      "             ░ ┌─┐   \n",
      "q17_0: ──────░─┤M├───\n",
      "       ┌───┐ ░ └╥┘┌─┐\n",
      "q17_1: ┤ X ├─░──╫─┤M├\n",
      "       └───┘ ░  ║ └╥┘\n",
      " c0: 2/═════════╩══╩═\n",
      "                0  1 \n",
      "\n",
      "Circuit mcalcal_11\n",
      "       ┌───┐ ░ ┌─┐   \n",
      "q17_0: ┤ X ├─░─┤M├───\n",
      "       ├───┤ ░ └╥┘┌─┐\n",
      "q17_1: ┤ X ├─░──╫─┤M├\n",
      "       └───┘ ░  ║ └╥┘\n",
      " c0: 2/═════════╩══╩═\n",
      "                0  1 \n",
      "\n"
     ]
    },
    {
     "name": "stderr",
     "output_type": "stream",
     "text": [
      "C:\\Users\\windows\\AppData\\Local\\Temp\\ipykernel_24556\\4077162033.py:2: DeprecationWarning: The function ``qiskit.utils.mitigation.circuits.complete_meas_cal()`` is deprecated as of qiskit-terra 0.24.0. It will be removed no earlier than 3 months after the release date. For code migration guidelines, visit https://qisk.it/qi_migration.\n",
      "  meas_calibs, state_labels = complete_meas_cal(qr=qr, circlabel='mcal')\n"
     ]
    }
   ],
   "source": [
    "qr = QuantumRegister(2)\n",
    "meas_calibs, state_labels = complete_meas_cal(qr=qr, circlabel='mcal')\n",
    "\n",
    "for circuit in meas_calibs:\n",
    "    print('Circuit', circuit.name)\n",
    "    print(circuit)\n",
    "    print()"
   ]
  },
  {
   "attachments": {},
   "cell_type": "markdown",
   "metadata": {},
   "source": [
    "Com o resultado da execução do circuito podemos criar uma matriz de calibração, como feita a seguir.  \n",
    "Se executarmos os circuitos em um simulador, sem adicionar uma função de ruído, teremos como resultado a matriz identidade:"
   ]
  },
  {
   "cell_type": "code",
   "execution_count": 11,
   "metadata": {},
   "outputs": [
    {
     "name": "stdout",
     "output_type": "stream",
     "text": [
      "[[1. 0. 0. 0.]\n",
      " [0. 1. 0. 0.]\n",
      " [0. 0. 1. 0.]\n",
      " [0. 0. 0. 1.]]\n"
     ]
    },
    {
     "name": "stderr",
     "output_type": "stream",
     "text": [
      "C:\\Users\\windows\\AppData\\Local\\Temp\\ipykernel_24556\\2922083627.py:8: DeprecationWarning: The class ``qiskit.utils.mitigation.fitters.CompleteMeasFitter`` is deprecated as of qiskit-terra 0.24.0. It will be removed no earlier than 3 months after the release date. For code migration guidelines, visit https://qisk.it/qi_migration.\n",
      "  meas_fitter = CompleteMeasFitter(cal_results, state_labels, circlabel='mcal')\n"
     ]
    }
   ],
   "source": [
    "# executando sem ruido:\n",
    "\n",
    "backend = Aer.get_backend('qasm_simulator')\n",
    "job = execute(meas_calibs, backend=backend, shots=1000)\n",
    "cal_results = job.result()\n",
    "#print(cal_results)\n",
    "\n",
    "meas_fitter = CompleteMeasFitter(cal_results, state_labels, circlabel='mcal')\n",
    "print(meas_fitter.cal_matrix)"
   ]
  },
  {
   "attachments": {},
   "cell_type": "markdown",
   "metadata": {},
   "source": [
    "Já com adição de ruídos sobre os mesmos circuitos usados no exemplo anterior, temos uma matriz como a M que trabalhamos anteriormente. Podemos então diminuir os erros causados pelo ruído aplicando um filtro na medida "
   ]
  },
  {
   "cell_type": "code",
   "execution_count": 12,
   "metadata": {},
   "outputs": [
    {
     "name": "stdout",
     "output_type": "stream",
     "text": [
      "[[0.811 0.089 0.091 0.01 ]\n",
      " [0.092 0.802 0.013 0.095]\n",
      " [0.089 0.005 0.822 0.1  ]\n",
      " [0.008 0.104 0.074 0.795]]\n"
     ]
    },
    {
     "name": "stderr",
     "output_type": "stream",
     "text": [
      "C:\\Users\\windows\\AppData\\Local\\Temp\\ipykernel_24556\\2753856379.py:7: DeprecationWarning: The class ``qiskit.utils.mitigation.fitters.CompleteMeasFitter`` is deprecated as of qiskit-terra 0.24.0. It will be removed no earlier than 3 months after the release date. For code migration guidelines, visit https://qisk.it/qi_migration.\n",
      "  meas_fitter = CompleteMeasFitter(cal_results, state_labels, circlabel='mcal')\n"
     ]
    }
   ],
   "source": [
    "noise_model = get_noise(0.1)\n",
    "\n",
    "backend = Aer.get_backend('qasm_simulator')\n",
    "job = execute(meas_calibs, backend=backend, shots=1000, noise_model=noise_model)\n",
    "cal_results = job.result()\n",
    "\n",
    "meas_fitter = CompleteMeasFitter(cal_results, state_labels, circlabel='mcal')\n",
    "print(meas_fitter.cal_matrix)"
   ]
  },
  {
   "cell_type": "code",
   "execution_count": 13,
   "metadata": {},
   "outputs": [
    {
     "data": {
      "image/png": "[encoded data removed]",
      "text/plain": [
       "<Figure size 700x500 with 1 Axes>"
      ]
     },
     "execution_count": 13,
     "metadata": {},
     "output_type": "execute_result"
    }
   ],
   "source": [
    "# executando para visualizar no estado de Bell\n",
    "qc = QuantumCircuit(2,2)\n",
    "qc.h(0)\n",
    "qc.cx(0,1)  \n",
    "qc.measure(qc.qregs[0],qc.cregs[0])\n",
    "\n",
    "results = execute(qc, backend=backend, shots=10000, noise_model=noise_model).result()\n",
    "\n",
    "noisy_counts = results.get_counts()\n",
    "#print(noisy_counts)\n",
    "\n",
    "# Adicionando um filtro\n",
    "meas_filter = meas_fitter.filter\n",
    "\n",
    "# Resultados com a mitigação de erros\n",
    "mitigated_results = meas_filter.apply(results)\n",
    "mitigated_counts = mitigated_results.get_counts(0)\n",
    "plot_histogram([noisy_counts, mitigated_counts], legend=['noisy', 'mitigated'])"
   ]
  }
 ],
 "metadata": {
  "kernelspec": {
   "display_name": "QiskitEnv",
   "language": "python",
   "name": "python3"
  },
  "language_info": {
   "codemirror_mode": {
    "name": "ipython",
    "version": 3
   },
   "file_extension": ".py",
   "mimetype": "text/x-python",
   "name": "python",
   "nbconvert_exporter": "python",
   "pygments_lexer": "ipython3",
   "version": "3.8.16"
  },
  "orig_nbformat": 4
 },
 "nbformat": 4,
 "nbformat_minor": 2
}
