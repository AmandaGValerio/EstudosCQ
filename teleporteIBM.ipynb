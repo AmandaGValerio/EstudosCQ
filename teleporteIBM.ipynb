{
 "cells": [
  {
   "attachments": {},
   "cell_type": "markdown",
   "metadata": {},
   "source": [
    "## Algoritmo de Teleporte Quântico\n",
    "### Referencias:\n",
    "\n",
    "https://learn.qiskit.org/course/ch-algorithms/quantum-teleportation  \n",
    "https://quantum-computing.ibm.com/lab/docs/iql/manage/systems/dynamic-circuits/Teleportation\n"
   ]
  },
  {
   "cell_type": "code",
   "execution_count": 66,
   "metadata": {},
   "outputs": [],
   "source": [
    "# Fazendo as importações necessárias\n",
    "import numpy as np\n",
    "from qiskit import QuantumCircuit, QuantumRegister, ClassicalRegister\n",
    "from qiskit import IBMQ, Aer, transpile\n",
    "from qiskit.visualization import plot_histogram, plot_bloch_multivector, array_to_latex\n",
    "from qiskit.extensions import Initialize\n",
    "from qiskit.result import marginal_counts\n",
    "from qiskit.quantum_info import random_statevector"
   ]
  },
  {
   "attachments": {},
   "cell_type": "markdown",
   "metadata": {},
   "source": [
    "Alice quer enviar a Bob um estado de um qubit. Pelo teorema da não-clonagem, não é possível criar uma cópia de um estado quântico, independente do método pensado. Então ela precisa de certa forma transferir as informações de seu estado para Bob, o que envolve modificar seu estado. Como eles estão fisicamente distantes, é preciso um par entrelaçado de qubits para a comunicação e um qubit que tem o estado que Alice quer transferir."
   ]
  },
  {
   "cell_type": "code",
   "execution_count": 67,
   "metadata": {},
   "outputs": [],
   "source": [
    "qr = QuantumRegister(3, name=\"q\")  \n",
    "teleportation_circuit = QuantumCircuit(qr)"
   ]
  },
  {
   "attachments": {},
   "cell_type": "markdown",
   "metadata": {},
   "source": [
    "Para garantir a segurança, um terceiro sujeito deve criar o par entrelaçado (Estado de Bell) e entregar um qubit para Alice e um para Bob. Então o que ela fizer de um lado irá afetar do outro."
   ]
  },
  {
   "cell_type": "code",
   "execution_count": 68,
   "metadata": {},
   "outputs": [],
   "source": [
    "def create_bell_pair(qc, a, b):\n",
    "    \"\"\"Creates a bell pair in qc using qubits a & b\"\"\"\n",
    "    qc.h(a) # Put qubit a into state |+>\n",
    "    qc.cx(a,b) # CNOT with a as control and b as target\n",
    "    qc.barrier()"
   ]
  },
  {
   "cell_type": "code",
   "execution_count": 69,
   "metadata": {},
   "outputs": [
    {
     "data": {
      "text/html": [
       "<pre style=\"word-wrap: normal;white-space: pre;background: #fff0;line-height: 1.1;font-family: &quot;Courier New&quot;,Courier,monospace\">                ░ \n",
       "q_0: ───────────░─\n",
       "     ┌───┐      ░ \n",
       "q_1: ┤ H ├──■───░─\n",
       "     └───┘┌─┴─┐ ░ \n",
       "q_2: ─────┤ X ├─░─\n",
       "          └───┘ ░ </pre>"
      ],
      "text/plain": [
       "                ░ \n",
       "q_0: ───────────░─\n",
       "     ┌───┐      ░ \n",
       "q_1: ┤ H ├──■───░─\n",
       "     └───┘┌─┴─┐ ░ \n",
       "q_2: ─────┤ X ├─░─\n",
       "          └───┘ ░ "
      ]
     },
     "execution_count": 69,
     "metadata": {},
     "output_type": "execute_result"
    }
   ],
   "source": [
    "## STEP 1\n",
    "# In our case, Telamon entangles qubits q1 and q2\n",
    "# Let's apply this to our circuit:\n",
    "create_bell_pair(teleportation_circuit, 1, 2)\n",
    "# And view the circuit so far:\n",
    "teleportation_circuit.draw()"
   ]
  },
  {
   "attachments": {},
   "cell_type": "markdown",
   "metadata": {},
   "source": [
    "Alice então executa uma medida de Bell, que consiste em realizar as operações inversas da criação do Estado de Bell seguido de duas medidas, armazenando cada uuma em um registrador clássico. Os resultados clássicos são lidos e enviados clássicamente para Bob."
   ]
  },
  {
   "cell_type": "code",
   "execution_count": 72,
   "metadata": {},
   "outputs": [],
   "source": [
    "def medida_Bell(qc, psi, a, b):\n",
    "    qc.cx(psi, a)\n",
    "    qc.h(psi)\n",
    "    qc.barrier()\n",
    "    qc.measure(psi,0)\n",
    "    qc.measure(a,1)"
   ]
  },
  {
   "cell_type": "code",
   "execution_count": 73,
   "metadata": {},
   "outputs": [],
   "source": [
    "#criação dos registradores clássicos\n",
    "crz = ClassicalRegister(1, name=\"crz\")\n",
    "crx = ClassicalRegister(1, name=\"crx\")\n",
    "#teleportation_circuit = QuantumCircuit(qr, crz, crx)\n",
    "teleportation_circuit.add_register(crz, crx)"
   ]
  },
  {
   "cell_type": "code",
   "execution_count": 74,
   "metadata": {},
   "outputs": [
    {
     "data": {
      "text/html": [
       "<pre style=\"word-wrap: normal;white-space: pre;background: #fff0;line-height: 1.1;font-family: &quot;Courier New&quot;,Courier,monospace\">                  ░      ┌───┐ ░ ┌─┐   \n",
       "  q_0: ───────────░───■──┤ H ├─░─┤M├───\n",
       "       ┌───┐      ░ ┌─┴─┐└───┘ ░ └╥┘┌─┐\n",
       "  q_1: ┤ H ├──■───░─┤ X ├──────░──╫─┤M├\n",
       "       └───┘┌─┴─┐ ░ └───┘      ░  ║ └╥┘\n",
       "  q_2: ─────┤ X ├─░────────────░──╫──╫─\n",
       "            └───┘ ░            ░  ║  ║ \n",
       "crz: 1/═══════════════════════════╩══╬═\n",
       "                                  0  ║ \n",
       "crx: 1/══════════════════════════════╩═\n",
       "                                     0 </pre>"
      ],
      "text/plain": [
       "                  ░      ┌───┐ ░ ┌─┐   \n",
       "  q_0: ───────────░───■──┤ H ├─░─┤M├───\n",
       "       ┌───┐      ░ ┌─┴─┐└───┘ ░ └╥┘┌─┐\n",
       "  q_1: ┤ H ├──■───░─┤ X ├──────░──╫─┤M├\n",
       "       └───┘┌─┴─┐ ░ └───┘      ░  ║ └╥┘\n",
       "  q_2: ─────┤ X ├─░────────────░──╫──╫─\n",
       "            └───┘ ░            ░  ║  ║ \n",
       "crz: 1/═══════════════════════════╩══╬═\n",
       "                                  0  ║ \n",
       "crx: 1/══════════════════════════════╩═\n",
       "                                     0 "
      ]
     },
     "execution_count": 74,
     "metadata": {},
     "output_type": "execute_result"
    }
   ],
   "source": [
    "medida_Bell(teleportation_circuit, 0, 1, 2)\n",
    "teleportation_circuit.draw()"
   ]
  },
  {
   "attachments": {},
   "cell_type": "markdown",
   "metadata": {},
   "source": [
    "Bob deve então executar algumas operações em seu qubit entrelaçado que dependem do resultado que ele recebeu classicamente."
   ]
  },
  {
   "cell_type": "code",
   "execution_count": 80,
   "metadata": {},
   "outputs": [],
   "source": [
    "# This function takes a QuantumCircuit (qc), integer (qubit)\n",
    "# and ClassicalRegisters (crz & crx) to decide which gates to apply\n",
    "def bob_gates(qc, qubit, crz, crx):\n",
    "    qc.barrier()\n",
    "    # Here we use c_if to control our gates with a classical\n",
    "    # bit instead of a qubit\n",
    "    qc.x(qubit).c_if(crx, 1) # Apply gates if the registers \n",
    "    qc.z(qubit).c_if(crz, 1) # are in the state '1'"
   ]
  },
  {
   "cell_type": "code",
   "execution_count": 81,
   "metadata": {},
   "outputs": [
    {
     "data": {
      "text/html": [
       "<pre style=\"word-wrap: normal;white-space: pre;background: #fff0;line-height: 1.1;font-family: &quot;Courier New&quot;,Courier,monospace\">                  ░  ░      ┌───┐ ░ ┌─┐    ░                ░               \n",
       "  q_0: ───────────░──░───■──┤ H ├─░─┤M├────░────────────────░───────────────\n",
       "       ┌───┐      ░  ░ ┌─┴─┐└───┘ ░ └╥┘┌─┐ ░                ░               \n",
       "  q_1: ┤ H ├──■───░──░─┤ X ├──────░──╫─┤M├─░────────────────░───────────────\n",
       "       └───┘┌─┴─┐ ░  ░ └───┘      ░  ║ └╥┘ ░  ┌───┐  ┌───┐  ░  ┌───┐  ┌───┐ \n",
       "  q_2: ─────┤ X ├─░──░────────────░──╫──╫──░──┤ X ├──┤ Z ├──░──┤ X ├──┤ Z ├─\n",
       "            └───┘ ░  ░            ░  ║  ║  ░  └─╥─┘  └─╥─┘  ░  └─╥─┘  └─╥─┘ \n",
       "                                     ║  ║       ║   ┌──╨──┐      ║   ┌──╨──┐\n",
       "crz: 1/══════════════════════════════╩══╬═══════╬═══╡ 0x1 ╞══════╬═══╡ 0x1 ╞\n",
       "                                     0  ║    ┌──╨──┐└─────┘   ┌──╨──┐└─────┘\n",
       "crx: 1/═════════════════════════════════╩════╡ 0x1 ╞══════════╡ 0x1 ╞═══════\n",
       "                                        0    └─────┘          └─────┘       </pre>"
      ],
      "text/plain": [
       "                  ░  ░      ┌───┐ ░ ┌─┐    ░                ░               \n",
       "  q_0: ───────────░──░───■──┤ H ├─░─┤M├────░────────────────░───────────────\n",
       "       ┌───┐      ░  ░ ┌─┴─┐└───┘ ░ └╥┘┌─┐ ░                ░               \n",
       "  q_1: ┤ H ├──■───░──░─┤ X ├──────░──╫─┤M├─░────────────────░───────────────\n",
       "       └───┘┌─┴─┐ ░  ░ └───┘      ░  ║ └╥┘ ░  ┌───┐  ┌───┐  ░  ┌───┐  ┌───┐ \n",
       "  q_2: ─────┤ X ├─░──░────────────░──╫──╫──░──┤ X ├──┤ Z ├──░──┤ X ├──┤ Z ├─\n",
       "            └───┘ ░  ░            ░  ║  ║  ░  └─╥─┘  └─╥─┘  ░  └─╥─┘  └─╥─┘ \n",
       "                                     ║  ║       ║   ┌──╨──┐      ║   ┌──╨──┐\n",
       "crz: 1/══════════════════════════════╩══╬═══════╬═══╡ 0x1 ╞══════╬═══╡ 0x1 ╞\n",
       "                                     0  ║    ┌──╨──┐└─────┘   ┌──╨──┐└─────┘\n",
       "crx: 1/═════════════════════════════════╩════╡ 0x1 ╞══════════╡ 0x1 ╞═══════\n",
       "                                        0    └─────┘          └─────┘       "
      ]
     },
     "execution_count": 81,
     "metadata": {},
     "output_type": "execute_result"
    }
   ],
   "source": [
    "bob_gates(teleportation_circuit, 2, crz, crx)\n",
    "teleportation_circuit.draw()"
   ]
  }
 ],
 "metadata": {
  "kernelspec": {
   "display_name": "QiskitEnv",
   "language": "python",
   "name": "python3"
  },
  "language_info": {
   "codemirror_mode": {
    "name": "ipython",
    "version": 3
   },
   "file_extension": ".py",
   "mimetype": "text/x-python",
   "name": "python",
   "nbconvert_exporter": "python",
   "pygments_lexer": "ipython3",
   "version": "3.8.16"
  },
  "orig_nbformat": 4
 },
 "nbformat": 4,
 "nbformat_minor": 2
}
